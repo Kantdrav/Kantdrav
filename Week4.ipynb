{
  "nbformat": 4,
  "nbformat_minor": 0,
  "metadata": {
    "colab": {
      "provenance": [],
      "include_colab_link": true
    },
    "kernelspec": {
      "name": "python3",
      "display_name": "Python 3"
    },
    "language_info": {
      "name": "python"
    }
  },
  "cells": [
    {
      "cell_type": "markdown",
      "metadata": {
        "id": "view-in-github",
        "colab_type": "text"
      },
      "source": [
        "<a href=\"https://colab.research.google.com/github/Kantdrav/Kantdrav/blob/main/Week4.ipynb\" target=\"_parent\"><img src=\"https://colab.research.google.com/assets/colab-badge.svg\" alt=\"Open In Colab\"/></a>"
      ]
    },
    {
      "cell_type": "code",
      "execution_count": null,
      "metadata": {
        "colab": {
          "base_uri": "https://localhost:8080/"
        },
        "id": "rVptT3p5Cc4E",
        "outputId": "8edc5a31-f8ae-4be9-e462-5f243a1bc6d4"
      },
      "outputs": [
        {
          "output_type": "stream",
          "name": "stdout",
          "text": [
            "0 1 0 0 1\n",
            "1 0 1 0 0\n",
            "0 1 0 1 0\n",
            "0 0 1 0 1\n",
            "1 0 0 1 0\n"
          ]
        }
      ],
      "source": [
        "edges = [(0, 1), (1, 2), (2, 3), (3, 4), (4, 0)] # m\n",
        "vertices = 5 # n\n",
        "\n",
        "# Adjacency Matrix\n",
        "\n",
        "AMat = [[0 for i in range(vertices)] for j in range(vertices)] # Complexity : O(n^2)\n",
        "\n",
        "# for i in range(vertices):\n",
        "#   X = []\n",
        "#   for j in range(vertices):\n",
        "#     X.append(0)\n",
        "#   AMat.append(X)\n",
        "\n",
        "\n",
        "\n",
        "for i, j in edges:\n",
        "  AMat[i][j] = 1\n",
        "  AMat[j][i] = 1 # Remove this line if graph is directed\n",
        "\n",
        "for i in AMat:\n",
        "  print(*i)\n",
        "\n"
      ]
    },
    {
      "cell_type": "code",
      "source": [
        "# Adjacency List\n",
        "\n",
        "AList = {}\n",
        "\n",
        "for i in range(vertices):  # Complexity : O(n)\n",
        "  AList[i] = []\n",
        "\n",
        "for i, j in edges:\n",
        "  AList[i].append(j)\n",
        "  AList[j].append(i) # Remove this if graph is directed\n",
        "\n",
        "\n",
        "\n",
        "print(AList)\n"
      ],
      "metadata": {
        "colab": {
          "base_uri": "https://localhost:8080/"
        },
        "id": "uXJwsOCCJJLq",
        "outputId": "c4449a31-96ae-4ffa-84ce-029c3ae56e0b"
      },
      "execution_count": null,
      "outputs": [
        {
          "output_type": "stream",
          "name": "stdout",
          "text": [
            "{0: [1, 4], 1: [0, 2], 2: [1, 3], 3: [2, 4], 4: [3, 0]}\n"
          ]
        }
      ]
    },
    {
      "cell_type": "code",
      "source": [
        "def BFS(Alist, n, source, visited):\n",
        "  queue = []\n",
        "\n",
        "  parent = {i : -1 for i in range(n)}\n",
        "\n",
        "  visited[source] = True\n",
        "  queue.append(source)\n",
        "\n",
        "  while queue:\n",
        "    j = queue.pop(0)\n",
        "    for k in Alist[j]: # Alist[j] = neighbors of j\n",
        "      if not visited[k]:\n",
        "        parent[k] = j\n",
        "        visited[k] = True\n",
        "        queue.append(k)\n",
        "\n",
        "  return visited\n",
        "\n"
      ],
      "metadata": {
        "id": "Uc8rhQIgQ-2Q"
      },
      "execution_count": null,
      "outputs": []
    },
    {
      "cell_type": "code",
      "source": [
        "BFS(AList, 5, 0)"
      ],
      "metadata": {
        "colab": {
          "base_uri": "https://localhost:8080/"
        },
        "id": "hkVNJYF6TgIp",
        "outputId": "8c88a1d1-4d3c-4c9d-a9d7-7d57a23241d4"
      },
      "execution_count": null,
      "outputs": [
        {
          "output_type": "execute_result",
          "data": {
            "text/plain": [
              "{0: -1, 1: 0, 2: 1, 3: 4, 4: 0}"
            ]
          },
          "metadata": {},
          "execution_count": 20
        }
      ]
    },
    {
      "cell_type": "code",
      "source": [
        "def DFS(Alist, n, source):\n",
        "  stack = []\n",
        "  visited  = {i : False for i in range(n)}\n",
        "  parent = {i : -1 for i in range(n)}\n",
        "\n",
        "  visited[source] = True\n",
        "  stack.append(source)\n",
        "\n",
        "  while stack:\n",
        "    j = stack.pop()\n",
        "    for k in Alist[j]: # Alist[j] = neighbors of j\n",
        "      if not visited[k]:\n",
        "        parent[k] = j\n",
        "        visited[k] = True\n",
        "        stack.append(k)\n",
        "\n",
        "  return parent"
      ],
      "metadata": {
        "id": "jQkQli1HTzWL"
      },
      "execution_count": null,
      "outputs": []
    },
    {
      "cell_type": "code",
      "source": [
        "DFS(AList, 5, 0)"
      ],
      "metadata": {
        "colab": {
          "base_uri": "https://localhost:8080/"
        },
        "id": "Z8Ka_ifEUF5k",
        "outputId": "5201a6c7-ed54-4a62-aba1-364f258fe10c"
      },
      "execution_count": null,
      "outputs": [
        {
          "output_type": "execute_result",
          "data": {
            "text/plain": [
              "{0: -1, 1: 0, 2: 3, 3: 4, 4: 0}"
            ]
          },
          "metadata": {},
          "execution_count": 17
        }
      ]
    },
    {
      "cell_type": "code",
      "source": [
        "def neighbours(AMat,i):\n",
        "  nbrs = []\n",
        "  (rows,cols) = len(AMat),len(AMat)\n",
        "  for j in range(cols):\n",
        "    if AMat[i][j] == 1:\n",
        "        nbrs.append(j)\n",
        "  return(nbrs)"
      ],
      "metadata": {
        "id": "LqaWtHETWefH"
      },
      "execution_count": null,
      "outputs": []
    },
    {
      "cell_type": "code",
      "source": [
        "def components(Alist, n):\n",
        "  visited = {i : False for i in range(n)}\n",
        "\n",
        "\n",
        "  q = [0]\n",
        "  c = 0\n",
        "  while q:\n",
        "    j = q.pop(0)\n",
        "    visited = BFS(Alist, n, j, visited)\n",
        "    print(visited)\n",
        "    c += 1\n",
        "    for i in visited:\n",
        "      if not visited[i]:\n",
        "        q.append(i)\n",
        "        break\n",
        "  return c\n",
        "\n",
        "\n",
        "\n"
      ],
      "metadata": {
        "id": "-UBKrjmdZK44"
      },
      "execution_count": null,
      "outputs": []
    },
    {
      "cell_type": "code",
      "source": [
        "Alist = {0 : [1, 2], 1 : [2, 0], 2 : [0, 1], 3 : [4, 5], 4 : [5, 3], 5 : [3, 4]}\n",
        "\n",
        "components(Alist, 6)"
      ],
      "metadata": {
        "colab": {
          "base_uri": "https://localhost:8080/"
        },
        "id": "OO1WjgdRaJR8",
        "outputId": "995b1899-cf02-46e3-a516-00ffdfeb5b52"
      },
      "execution_count": null,
      "outputs": [
        {
          "output_type": "stream",
          "name": "stdout",
          "text": [
            "{0: True, 1: True, 2: True, 3: False, 4: False, 5: False}\n",
            "{0: True, 1: True, 2: True, 3: True, 4: True, 5: True}\n"
          ]
        },
        {
          "output_type": "execute_result",
          "data": {
            "text/plain": [
              "2"
            ]
          },
          "metadata": {},
          "execution_count": 33
        }
      ]
    }
  ]
}
