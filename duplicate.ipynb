{
  "nbformat": 4,
  "nbformat_minor": 0,
  "metadata": {
    "colab": {
      "provenance": [],
      "authorship_tag": "ABX9TyM4oDyNGbqda+eR+DvzZ+uf",
      "include_colab_link": true
    },
    "kernelspec": {
      "name": "python3",
      "display_name": "Python 3"
    },
    "language_info": {
      "name": "python"
    }
  },
  "cells": [
    {
      "cell_type": "markdown",
      "metadata": {
        "id": "view-in-github",
        "colab_type": "text"
      },
      "source": [
        "<a href=\"https://colab.research.google.com/github/Kantdrav/Kantdrav/blob/main/duplicate.ipynb\" target=\"_parent\"><img src=\"https://colab.research.google.com/assets/colab-badge.svg\" alt=\"Open In Colab\"/></a>"
      ]
    },
    {
      "cell_type": "code",
      "execution_count": null,
      "metadata": {
        "id": "Jk90DBmCIY43"
      },
      "outputs": [],
      "source": [
        "import collections\n",
        "t=int(input())\n",
        "for i in range(t):\n",
        "  global N\n",
        "  N=int(input())\n",
        "  inArr=input().split(' ')\n",
        "  \n",
        "\n",
        "  class ListNode:\n",
        "     def __init__(self, data, next = None):\n",
        "        self.val = data\n",
        "        self.next = next\n",
        "  \n",
        "  def make_list(elements):\n",
        "     head = ListNode(elements[0])\n",
        "     for element in elements[1:]:\n",
        "        ptr = head\n",
        "        while ptr.next:\n",
        "           ptr = ptr.next\n",
        "        ptr.next = ListNode(element)\n",
        "  \n",
        "     return head\n",
        "  \n",
        "  def print_list(head):\n",
        "     ptr = head\n",
        "     for i in range(N):\n",
        "        if i == N-1:\n",
        "          print(ptr.val)\n",
        "          ptr = ptr.next\n",
        "        else:\n",
        "          print(ptr.val, end = \" \")\n",
        "          ptr = ptr.next\n",
        "  \n",
        "  class Sort:\n",
        "     def solve(self, node):\n",
        "  \n",
        "       values = []\n",
        "       head = node\n",
        "       while node:\n",
        "          values.append(node.val)\n",
        "          node = node.next\n",
        "    \n",
        "       values.sort()\n",
        "       values = collections.deque(values)\n",
        "    \n",
        "       node = head\n",
        "       while node:\n",
        "          node.val = values.popleft()\n",
        "          node = node.next\n",
        "    \n",
        "       return head\n",
        "\n",
        "  sortedList = Sort()\n",
        "  intArr=list()\n",
        "  for i in range(len(inArr)):\n",
        "    intArr.append(int(inArr[i]))\n",
        "  head = make_list(intArr)\n",
        "  print_list(sortedList.solve(head))"
      ]
    }
  ]
}